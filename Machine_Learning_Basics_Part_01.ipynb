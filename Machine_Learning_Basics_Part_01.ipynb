{
  "metadata": {
    "kernelspec": {
      "language": "python",
      "display_name": "Python 3",
      "name": "python3"
    },
    "language_info": {
      "name": "python",
      "version": "3.10.13",
      "mimetype": "text/x-python",
      "codemirror_mode": {
        "name": "ipython",
        "version": 3
      },
      "pygments_lexer": "ipython3",
      "nbconvert_exporter": "python",
      "file_extension": ".py"
    },
    "kaggle": {
      "accelerator": "none",
      "dataSources": [
        {
          "sourceId": 2965537,
          "sourceType": "datasetVersion",
          "datasetId": 1818188
        }
      ],
      "dockerImageVersionId": 30732,
      "isInternetEnabled": true,
      "language": "python",
      "sourceType": "notebook",
      "isGpuEnabled": false
    },
    "colab": {
      "name": "Machine Learning Basics Part: 01",
      "provenance": [],
      "include_colab_link": true
    }
  },
  "nbformat_minor": 0,
  "nbformat": 4,
  "cells": [
    {
      "cell_type": "markdown",
      "metadata": {
        "id": "view-in-github",
        "colab_type": "text"
      },
      "source": [
        "<a href=\"https://colab.research.google.com/github/Mohit-Jangid/Random-Stuff/blob/main/Machine_Learning_Basics_Part_01.ipynb\" target=\"_parent\"><img src=\"https://colab.research.google.com/assets/colab-badge.svg\" alt=\"Open In Colab\"/></a>"
      ]
    },
    {
      "source": [
        "\n",
        "# IMPORTANT: RUN THIS CELL IN ORDER TO IMPORT YOUR KAGGLE DATA SOURCES\n",
        "# TO THE CORRECT LOCATION (/kaggle/input) IN YOUR NOTEBOOK,\n",
        "# THEN FEEL FREE TO DELETE THIS CELL.\n",
        "# NOTE: THIS NOTEBOOK ENVIRONMENT DIFFERS FROM KAGGLE'S PYTHON\n",
        "# ENVIRONMENT SO THERE MAY BE MISSING LIBRARIES USED BY YOUR\n",
        "# NOTEBOOK.\n",
        "\n",
        "import os\n",
        "import sys\n",
        "from tempfile import NamedTemporaryFile\n",
        "from urllib.request import urlopen\n",
        "from urllib.parse import unquote, urlparse\n",
        "from urllib.error import HTTPError\n",
        "from zipfile import ZipFile\n",
        "import tarfile\n",
        "import shutil\n",
        "\n",
        "CHUNK_SIZE = 40960\n",
        "DATA_SOURCE_MAPPING = 'titanic-dataset:https%3A%2F%2Fstorage.googleapis.com%2Fkaggle-data-sets%2F1818188%2F2965537%2Fbundle%2Farchive.zip%3FX-Goog-Algorithm%3DGOOG4-RSA-SHA256%26X-Goog-Credential%3Dgcp-kaggle-com%2540kaggle-161607.iam.gserviceaccount.com%252F20240704%252Fauto%252Fstorage%252Fgoog4_request%26X-Goog-Date%3D20240704T150332Z%26X-Goog-Expires%3D259200%26X-Goog-SignedHeaders%3Dhost%26X-Goog-Signature%3D1f472a0989e157bd81c5fcf079369d40a78d24b3e3abe9d2e4e05f8748740881f556303817510d9ea2b791607e1f26e13b7819dc1980c8884da464c8acaa12c912ba1256bdcdfc8de582d92342037cdaa2b203389ad96b192f53f3009433d7e782d41a3936982f3c42d62195c1a20ff6c8039c1cd657b1ccf891c38e2e97bc5b13729608a6f87d76e7fb83c8c32cc0352324606611763bf6dc8b15236414092ec0a3dce528f35e77f27063313c91a8a6916c85ba0d59be04dc1ec3efc06ef801986bae6cf417ad085f3d83e47a66c2f80bd111cfabe5a2b3ced51de000aef2c3792d66bd34d296034e1dfe1eeef9024344ce9cee8529bab3328bc17802ac95e3'\n",
        "\n",
        "KAGGLE_INPUT_PATH='/kaggle/input'\n",
        "KAGGLE_WORKING_PATH='/kaggle/working'\n",
        "KAGGLE_SYMLINK='kaggle'\n",
        "\n",
        "!umount /kaggle/input/ 2> /dev/null\n",
        "shutil.rmtree('/kaggle/input', ignore_errors=True)\n",
        "os.makedirs(KAGGLE_INPUT_PATH, 0o777, exist_ok=True)\n",
        "os.makedirs(KAGGLE_WORKING_PATH, 0o777, exist_ok=True)\n",
        "\n",
        "try:\n",
        "  os.symlink(KAGGLE_INPUT_PATH, os.path.join(\"..\", 'input'), target_is_directory=True)\n",
        "except FileExistsError:\n",
        "  pass\n",
        "try:\n",
        "  os.symlink(KAGGLE_WORKING_PATH, os.path.join(\"..\", 'working'), target_is_directory=True)\n",
        "except FileExistsError:\n",
        "  pass\n",
        "\n",
        "for data_source_mapping in DATA_SOURCE_MAPPING.split(','):\n",
        "    directory, download_url_encoded = data_source_mapping.split(':')\n",
        "    download_url = unquote(download_url_encoded)\n",
        "    filename = urlparse(download_url).path\n",
        "    destination_path = os.path.join(KAGGLE_INPUT_PATH, directory)\n",
        "    try:\n",
        "        with urlopen(download_url) as fileres, NamedTemporaryFile() as tfile:\n",
        "            total_length = fileres.headers['content-length']\n",
        "            print(f'Downloading {directory}, {total_length} bytes compressed')\n",
        "            dl = 0\n",
        "            data = fileres.read(CHUNK_SIZE)\n",
        "            while len(data) > 0:\n",
        "                dl += len(data)\n",
        "                tfile.write(data)\n",
        "                done = int(50 * dl / int(total_length))\n",
        "                sys.stdout.write(f\"\\r[{'=' * done}{' ' * (50-done)}] {dl} bytes downloaded\")\n",
        "                sys.stdout.flush()\n",
        "                data = fileres.read(CHUNK_SIZE)\n",
        "            if filename.endswith('.zip'):\n",
        "              with ZipFile(tfile) as zfile:\n",
        "                zfile.extractall(destination_path)\n",
        "            else:\n",
        "              with tarfile.open(tfile.name) as tarfile:\n",
        "                tarfile.extractall(destination_path)\n",
        "            print(f'\\nDownloaded and uncompressed: {directory}')\n",
        "    except HTTPError as e:\n",
        "        print(f'Failed to load (likely expired) {download_url} to path {destination_path}')\n",
        "        continue\n",
        "    except OSError as e:\n",
        "        print(f'Failed to load {download_url} to path {destination_path}')\n",
        "        continue\n",
        "\n",
        "print('Data source import complete.')\n"
      ],
      "metadata": {
        "id": "t6_EjTQUI0O3"
      },
      "cell_type": "code",
      "outputs": [],
      "execution_count": null
    },
    {
      "cell_type": "code",
      "source": [
        "import pandas as pd\n",
        "import numpy as np\n",
        "import seaborn as sns\n",
        "import matplotlib.pyplot as plt\n",
        "%matplotlib inline\n",
        "\n",
        "import warnings\n",
        "warnings.filterwarnings(\"ignore\")"
      ],
      "metadata": {
        "execution": {
          "iopub.status.busy": "2024-06-14T11:39:54.921252Z",
          "iopub.execute_input": "2024-06-14T11:39:54.921672Z",
          "iopub.status.idle": "2024-06-14T11:39:57.840093Z",
          "shell.execute_reply.started": "2024-06-14T11:39:54.921638Z",
          "shell.execute_reply": "2024-06-14T11:39:57.838617Z"
        },
        "trusted": true,
        "id": "kjmiUugsI0O8"
      },
      "execution_count": null,
      "outputs": []
    },
    {
      "cell_type": "markdown",
      "source": [
        "# Follow for content related to Machine Learning Link:   https://www.linkedin.com/groups/7436898/"
      ],
      "metadata": {
        "id": "HP6w2H8eI0O9"
      }
    },
    {
      "cell_type": "markdown",
      "source": [
        "# Check Python Library Version"
      ],
      "metadata": {
        "id": "1k0lXRheI0O-"
      }
    },
    {
      "cell_type": "code",
      "source": [
        "# Check Python Library Version\n",
        "import pandas as pd\n",
        "import numpy as np\n",
        "import seaborn as sns\n",
        "\n",
        "print('numpy:{}'.format(np.__version__))\n",
        "print('pandas:{}'.format(pd.__version__))\n",
        "print('seaborn:{}'.format(sns.__version__))"
      ],
      "metadata": {
        "execution": {
          "iopub.status.busy": "2024-06-14T11:39:57.842837Z",
          "iopub.execute_input": "2024-06-14T11:39:57.843575Z",
          "iopub.status.idle": "2024-06-14T11:39:57.851134Z",
          "shell.execute_reply.started": "2024-06-14T11:39:57.843445Z",
          "shell.execute_reply": "2024-06-14T11:39:57.849975Z"
        },
        "trusted": true,
        "id": "OWttgXNHI0O_"
      },
      "execution_count": null,
      "outputs": []
    },
    {
      "cell_type": "markdown",
      "source": [
        "# Read CSV File"
      ],
      "metadata": {
        "id": "yjRvQYnPI0O_"
      }
    },
    {
      "cell_type": "code",
      "source": [
        "# Read CSV File\n",
        "import pandas as pd\n",
        "df = pd.read_csv(\"/kaggle/input/titanic-dataset/Titanic-Dataset.csv\")\n",
        "df.head().style.set_properties(**{'background-color': 'Black',\n",
        "                           'color': 'white',\n",
        "                           'border-color': 'darkblack'})"
      ],
      "metadata": {
        "execution": {
          "iopub.status.busy": "2024-06-14T11:39:57.852375Z",
          "iopub.execute_input": "2024-06-14T11:39:57.852736Z",
          "iopub.status.idle": "2024-06-14T11:39:58.074134Z",
          "shell.execute_reply.started": "2024-06-14T11:39:57.852703Z",
          "shell.execute_reply": "2024-06-14T11:39:58.072768Z"
        },
        "trusted": true,
        "id": "SPlB3qFHI0PA"
      },
      "execution_count": null,
      "outputs": []
    },
    {
      "cell_type": "markdown",
      "source": [
        "# Drop Columns from the dataframe"
      ],
      "metadata": {
        "id": "xM4dw8EMI0PA"
      }
    },
    {
      "cell_type": "code",
      "source": [
        "# Drop Columns from the dataframe\n",
        "df_drop_Col = df.drop(['PassengerId','Name','Ticket'],axis=1)\n",
        "df_drop_Col.head()"
      ],
      "metadata": {
        "execution": {
          "iopub.status.busy": "2024-06-14T11:39:58.080097Z",
          "iopub.execute_input": "2024-06-14T11:39:58.080603Z",
          "iopub.status.idle": "2024-06-14T11:39:58.109858Z",
          "shell.execute_reply.started": "2024-06-14T11:39:58.08057Z",
          "shell.execute_reply": "2024-06-14T11:39:58.108618Z"
        },
        "trusted": true,
        "id": "IOXfLC0qI0PA"
      },
      "execution_count": null,
      "outputs": []
    },
    {
      "cell_type": "markdown",
      "source": [
        "# Drop Rows from the dataframe"
      ],
      "metadata": {
        "id": "Ndq0ahHtI0PB"
      }
    },
    {
      "cell_type": "code",
      "source": [
        "# Drop Rows from the dataframe\n",
        "df_drop_rows = df.drop(labels=[0,1,3,6],axis=0)\n",
        "df_drop_rows.head()"
      ],
      "metadata": {
        "execution": {
          "iopub.status.busy": "2024-06-14T11:39:58.111599Z",
          "iopub.execute_input": "2024-06-14T11:39:58.112016Z",
          "iopub.status.idle": "2024-06-14T11:39:58.133275Z",
          "shell.execute_reply.started": "2024-06-14T11:39:58.111979Z",
          "shell.execute_reply": "2024-06-14T11:39:58.131895Z"
        },
        "trusted": true,
        "id": "Qhb9hbGoI0PC"
      },
      "execution_count": null,
      "outputs": []
    },
    {
      "cell_type": "markdown",
      "source": [
        "# Describe function"
      ],
      "metadata": {
        "id": "eW2EsYoDI0PC"
      }
    },
    {
      "cell_type": "code",
      "source": [
        "df.describe()"
      ],
      "metadata": {
        "execution": {
          "iopub.status.busy": "2024-06-14T11:39:58.135137Z",
          "iopub.execute_input": "2024-06-14T11:39:58.135623Z",
          "iopub.status.idle": "2024-06-14T11:39:58.178875Z",
          "shell.execute_reply.started": "2024-06-14T11:39:58.135579Z",
          "shell.execute_reply": "2024-06-14T11:39:58.17775Z"
        },
        "trusted": true,
        "id": "X6AoBDmiI0PD"
      },
      "execution_count": null,
      "outputs": []
    },
    {
      "cell_type": "code",
      "source": [
        "df[df['Survived']==0].describe().T.style.background_gradient \\\n",
        "(subset=['mean','std','50%','count'], cmap='RdPu')"
      ],
      "metadata": {
        "execution": {
          "iopub.status.busy": "2024-06-14T11:39:58.180177Z",
          "iopub.execute_input": "2024-06-14T11:39:58.181057Z",
          "iopub.status.idle": "2024-06-14T11:39:58.222119Z",
          "shell.execute_reply.started": "2024-06-14T11:39:58.181024Z",
          "shell.execute_reply": "2024-06-14T11:39:58.221086Z"
        },
        "trusted": true,
        "id": "jljKJCqqI0PD"
      },
      "execution_count": null,
      "outputs": []
    },
    {
      "cell_type": "code",
      "source": [
        "df.describe(percentiles=[0.05,0.25,0.35,0.5,0.75,0.85,0.95,0.995,0.999])"
      ],
      "metadata": {
        "execution": {
          "iopub.status.busy": "2024-06-14T11:39:58.223734Z",
          "iopub.execute_input": "2024-06-14T11:39:58.224035Z",
          "iopub.status.idle": "2024-06-14T11:39:58.256825Z",
          "shell.execute_reply.started": "2024-06-14T11:39:58.224008Z",
          "shell.execute_reply": "2024-06-14T11:39:58.255391Z"
        },
        "trusted": true,
        "id": "XqueHbJaI0PE"
      },
      "execution_count": null,
      "outputs": []
    },
    {
      "cell_type": "markdown",
      "source": [
        "# Correlation function"
      ],
      "metadata": {
        "id": "DqRtvdV5I0PE"
      }
    },
    {
      "cell_type": "code",
      "source": [
        "df[['Survived', 'Pclass', 'Age', 'SibSp','Parch', 'Fare']].corr()"
      ],
      "metadata": {
        "execution": {
          "iopub.status.busy": "2024-06-14T11:39:58.258123Z",
          "iopub.execute_input": "2024-06-14T11:39:58.258526Z",
          "iopub.status.idle": "2024-06-14T11:39:58.280828Z",
          "shell.execute_reply.started": "2024-06-14T11:39:58.258488Z",
          "shell.execute_reply": "2024-06-14T11:39:58.278659Z"
        },
        "trusted": true,
        "id": "36UcwG-4I0PE"
      },
      "execution_count": null,
      "outputs": []
    },
    {
      "cell_type": "code",
      "source": [
        "corr = df.groupby([\"Embarked\"])[[\"Fare\" , \"Age\"]].corr()\n",
        "corr.head()\n",
        "\n",
        "sns.heatmap(corr , annot=True , fmt =\".2f\")\n",
        "plt.xlabel(\"Vars\")\n",
        "plt.ylabel(\"age category\")\n",
        "plt.title(\"corr between age and Fare according to Embarked (catgorey)\")\n",
        "plt.show()"
      ],
      "metadata": {
        "execution": {
          "iopub.status.busy": "2024-06-14T11:39:58.28652Z",
          "iopub.execute_input": "2024-06-14T11:39:58.286878Z",
          "iopub.status.idle": "2024-06-14T11:39:58.726876Z",
          "shell.execute_reply.started": "2024-06-14T11:39:58.28685Z",
          "shell.execute_reply": "2024-06-14T11:39:58.725636Z"
        },
        "trusted": true,
        "id": "osOnM-i_I0PE"
      },
      "execution_count": null,
      "outputs": []
    },
    {
      "cell_type": "code",
      "source": [
        "X = df[['Pclass', 'Age', 'SibSp','Parch', 'Fare']]\n",
        "y = df['Survived']\n",
        "X.corrwith(y).plot.bar(\n",
        "        figsize = (16, 4), title = \"Correlation with Titanic\", fontsize = 15,\n",
        "        rot = 90, grid = True)\n",
        "plt.show()"
      ],
      "metadata": {
        "execution": {
          "iopub.status.busy": "2024-06-14T11:39:58.72919Z",
          "iopub.execute_input": "2024-06-14T11:39:58.729681Z",
          "iopub.status.idle": "2024-06-14T11:39:59.079452Z",
          "shell.execute_reply.started": "2024-06-14T11:39:58.729642Z",
          "shell.execute_reply": "2024-06-14T11:39:59.078511Z"
        },
        "trusted": true,
        "id": "UiKmBI5ZI0PF"
      },
      "execution_count": null,
      "outputs": []
    },
    {
      "cell_type": "code",
      "source": [
        "corr = df[['Pclass', 'Age', 'SibSp','Parch', 'Fare']].corr()\n",
        "plt.figure(dpi=100)\n",
        "plt.title('Correlation Analysis')\n",
        "sns.heatmap(corr,annot=True,lw=0,linecolor='white',cmap='viridis',fmt = \"0.2f\")\n",
        "plt.xticks(rotation=90)\n",
        "plt.yticks(rotation = 0)\n",
        "plt.show()"
      ],
      "metadata": {
        "execution": {
          "iopub.status.busy": "2024-06-14T11:39:59.081105Z",
          "iopub.execute_input": "2024-06-14T11:39:59.081756Z",
          "iopub.status.idle": "2024-06-14T11:39:59.475894Z",
          "shell.execute_reply.started": "2024-06-14T11:39:59.081718Z",
          "shell.execute_reply": "2024-06-14T11:39:59.474573Z"
        },
        "trusted": true,
        "id": "DQJd7r1ZI0PF"
      },
      "execution_count": null,
      "outputs": []
    },
    {
      "cell_type": "code",
      "source": [
        "corr = df[['Pclass', 'Age', 'SibSp','Parch', 'Fare']].corr()\n",
        "mask = np.triu(np.ones_like(corr,dtype = bool))\n",
        "plt.figure(dpi=100)\n",
        "plt.title('Correlation Analysis')\n",
        "sns.heatmap(corr,mask=mask,annot=True,lw=0,linecolor='white',cmap='viridis',fmt = \"0.2f\")\n",
        "plt.xticks(rotation=90)\n",
        "plt.yticks(rotation = 0)\n",
        "plt.show()"
      ],
      "metadata": {
        "execution": {
          "iopub.status.busy": "2024-06-14T11:39:59.477192Z",
          "iopub.execute_input": "2024-06-14T11:39:59.478096Z",
          "iopub.status.idle": "2024-06-14T11:39:59.857986Z",
          "shell.execute_reply.started": "2024-06-14T11:39:59.478061Z",
          "shell.execute_reply": "2024-06-14T11:39:59.856914Z"
        },
        "trusted": true,
        "id": "WRdNfTOtI0PF"
      },
      "execution_count": null,
      "outputs": []
    },
    {
      "cell_type": "markdown",
      "source": [
        "# Aggregate function"
      ],
      "metadata": {
        "id": "7Oz-okczI0PF"
      }
    },
    {
      "cell_type": "code",
      "source": [
        "df[['Age','Fare','Pclass']].agg(['sum','max','mean','std','skew','kurt'])"
      ],
      "metadata": {
        "execution": {
          "iopub.status.busy": "2024-06-14T11:39:59.859299Z",
          "iopub.execute_input": "2024-06-14T11:39:59.860456Z",
          "iopub.status.idle": "2024-06-14T11:39:59.882618Z",
          "shell.execute_reply.started": "2024-06-14T11:39:59.860408Z",
          "shell.execute_reply": "2024-06-14T11:39:59.881405Z"
        },
        "trusted": true,
        "id": "3FIJ68-8I0PG"
      },
      "execution_count": null,
      "outputs": []
    },
    {
      "cell_type": "code",
      "source": [
        "df.groupby(\"Embarked\").agg({\"Fare\": np.mean, \"Sex\": np.size})"
      ],
      "metadata": {
        "execution": {
          "iopub.status.busy": "2024-06-14T11:39:59.884035Z",
          "iopub.execute_input": "2024-06-14T11:39:59.88455Z",
          "iopub.status.idle": "2024-06-14T11:39:59.905528Z",
          "shell.execute_reply.started": "2024-06-14T11:39:59.884508Z",
          "shell.execute_reply": "2024-06-14T11:39:59.904398Z"
        },
        "trusted": true,
        "id": "QhdUho71I0PG"
      },
      "execution_count": null,
      "outputs": []
    },
    {
      "cell_type": "code",
      "source": [
        "df.groupby([\"Embarked\", \"Pclass\"]).agg({\"Fare\": [np.size, np.mean]})"
      ],
      "metadata": {
        "execution": {
          "iopub.status.busy": "2024-06-14T11:39:59.907283Z",
          "iopub.execute_input": "2024-06-14T11:39:59.907969Z",
          "iopub.status.idle": "2024-06-14T11:39:59.93272Z",
          "shell.execute_reply.started": "2024-06-14T11:39:59.907925Z",
          "shell.execute_reply": "2024-06-14T11:39:59.93162Z"
        },
        "trusted": true,
        "id": "5q72XMN6I0PG"
      },
      "execution_count": null,
      "outputs": []
    },
    {
      "cell_type": "code",
      "source": [
        "df.pivot_table(index='Pclass',values='Age', aggfunc=np.median)"
      ],
      "metadata": {
        "execution": {
          "iopub.status.busy": "2024-06-14T11:39:59.934042Z",
          "iopub.execute_input": "2024-06-14T11:39:59.934418Z",
          "iopub.status.idle": "2024-06-14T11:39:59.953696Z",
          "shell.execute_reply.started": "2024-06-14T11:39:59.934387Z",
          "shell.execute_reply": "2024-06-14T11:39:59.952254Z"
        },
        "trusted": true,
        "id": "b1ntjOI9I0PG"
      },
      "execution_count": null,
      "outputs": []
    },
    {
      "cell_type": "code",
      "source": [
        "x=pd.DataFrame(pd.pivot_table(df,index=['Sex','Embarked'],aggfunc='count')['Fare'])\n",
        "x"
      ],
      "metadata": {
        "execution": {
          "iopub.status.busy": "2024-06-14T11:39:59.955139Z",
          "iopub.execute_input": "2024-06-14T11:39:59.955821Z",
          "iopub.status.idle": "2024-06-14T11:39:59.98135Z",
          "shell.execute_reply.started": "2024-06-14T11:39:59.955776Z",
          "shell.execute_reply": "2024-06-14T11:39:59.979886Z"
        },
        "trusted": true,
        "id": "Vnrbc5SOI0PG"
      },
      "execution_count": null,
      "outputs": []
    },
    {
      "cell_type": "code",
      "source": [
        "df.groupby([\"Embarked\", \"Pclass\"]).agg({\"Fare\": [np.size, np.mean]})"
      ],
      "metadata": {
        "execution": {
          "iopub.status.busy": "2024-06-14T11:39:59.983543Z",
          "iopub.execute_input": "2024-06-14T11:39:59.983895Z",
          "iopub.status.idle": "2024-06-14T11:40:00.00598Z",
          "shell.execute_reply.started": "2024-06-14T11:39:59.983865Z",
          "shell.execute_reply": "2024-06-14T11:40:00.004514Z"
        },
        "trusted": true,
        "id": "SS5M1GsRI0PH"
      },
      "execution_count": null,
      "outputs": []
    },
    {
      "cell_type": "code",
      "source": [
        "df.groupby(\"Embarked\").agg({\"Fare\": np.mean, \"Sex\": np.size})"
      ],
      "metadata": {
        "execution": {
          "iopub.status.busy": "2024-06-14T11:40:00.007279Z",
          "iopub.execute_input": "2024-06-14T11:40:00.007789Z",
          "iopub.status.idle": "2024-06-14T11:40:00.027766Z",
          "shell.execute_reply.started": "2024-06-14T11:40:00.007746Z",
          "shell.execute_reply": "2024-06-14T11:40:00.026425Z"
        },
        "trusted": true,
        "id": "zA4u3wC7I0PI"
      },
      "execution_count": null,
      "outputs": []
    },
    {
      "cell_type": "code",
      "source": [
        "df.groupby('Embarked').Fare.agg(['count', 'mean', 'sum']).sort_values('sum').tail()"
      ],
      "metadata": {
        "execution": {
          "iopub.status.busy": "2024-06-14T11:40:00.030599Z",
          "iopub.execute_input": "2024-06-14T11:40:00.031055Z",
          "iopub.status.idle": "2024-06-14T11:40:00.057845Z",
          "shell.execute_reply.started": "2024-06-14T11:40:00.031016Z",
          "shell.execute_reply": "2024-06-14T11:40:00.056554Z"
        },
        "trusted": true,
        "id": "3BZSGs-tI0PI"
      },
      "execution_count": null,
      "outputs": []
    },
    {
      "cell_type": "markdown",
      "source": [
        "# value_counts function"
      ],
      "metadata": {
        "id": "pvBL__7cI0PI"
      }
    },
    {
      "cell_type": "code",
      "source": [
        "df['Embarked'].value_counts().to_frame()"
      ],
      "metadata": {
        "execution": {
          "iopub.status.busy": "2024-06-14T11:40:00.059065Z",
          "iopub.execute_input": "2024-06-14T11:40:00.059536Z",
          "iopub.status.idle": "2024-06-14T11:40:00.075643Z",
          "shell.execute_reply.started": "2024-06-14T11:40:00.0595Z",
          "shell.execute_reply": "2024-06-14T11:40:00.074375Z"
        },
        "trusted": true,
        "id": "mdZdJuVUI0PJ"
      },
      "execution_count": null,
      "outputs": []
    },
    {
      "cell_type": "code",
      "source": [
        "df['Embarked'].value_counts().tolist()"
      ],
      "metadata": {
        "execution": {
          "iopub.status.busy": "2024-06-14T11:40:00.076986Z",
          "iopub.execute_input": "2024-06-14T11:40:00.077355Z",
          "iopub.status.idle": "2024-06-14T11:40:00.093708Z",
          "shell.execute_reply.started": "2024-06-14T11:40:00.077301Z",
          "shell.execute_reply": "2024-06-14T11:40:00.092249Z"
        },
        "trusted": true,
        "id": "i_P4GL_2I0PJ"
      },
      "execution_count": null,
      "outputs": []
    },
    {
      "cell_type": "code",
      "source": [
        "males = df[df['Sex'] == 'male']\n",
        "males['Survived'].value_counts()/len(males)"
      ],
      "metadata": {
        "execution": {
          "iopub.status.busy": "2024-06-14T11:40:00.095255Z",
          "iopub.execute_input": "2024-06-14T11:40:00.095722Z",
          "iopub.status.idle": "2024-06-14T11:40:00.114925Z",
          "shell.execute_reply.started": "2024-06-14T11:40:00.095679Z",
          "shell.execute_reply": "2024-06-14T11:40:00.113408Z"
        },
        "trusted": true,
        "id": "kDrXMF6TI0PJ"
      },
      "execution_count": null,
      "outputs": []
    },
    {
      "cell_type": "code",
      "source": [
        "df['Embarked'][df['Sex']=='female'].value_counts(normalize=True)*100"
      ],
      "metadata": {
        "execution": {
          "iopub.status.busy": "2024-06-14T11:40:00.117035Z",
          "iopub.execute_input": "2024-06-14T11:40:00.1175Z",
          "iopub.status.idle": "2024-06-14T11:40:00.130713Z",
          "shell.execute_reply.started": "2024-06-14T11:40:00.117457Z",
          "shell.execute_reply": "2024-06-14T11:40:00.129396Z"
        },
        "trusted": true,
        "id": "3aBqTMFbI0PK"
      },
      "execution_count": null,
      "outputs": []
    },
    {
      "cell_type": "markdown",
      "source": [
        "# fillna method"
      ],
      "metadata": {
        "id": "Hld1Io3LI0PK"
      }
    },
    {
      "cell_type": "code",
      "source": [
        "titanic = df.copy('deep')"
      ],
      "metadata": {
        "execution": {
          "iopub.status.busy": "2024-06-14T11:40:00.13276Z",
          "iopub.execute_input": "2024-06-14T11:40:00.133198Z",
          "iopub.status.idle": "2024-06-14T11:40:00.141744Z",
          "shell.execute_reply.started": "2024-06-14T11:40:00.133147Z",
          "shell.execute_reply": "2024-06-14T11:40:00.140272Z"
        },
        "trusted": true,
        "id": "AptizwLZI0PK"
      },
      "execution_count": null,
      "outputs": []
    },
    {
      "cell_type": "code",
      "source": [
        "titanic.fillna(method=\"ffill\", inplace=True)"
      ],
      "metadata": {
        "execution": {
          "iopub.status.busy": "2024-06-14T11:40:00.145113Z",
          "iopub.execute_input": "2024-06-14T11:40:00.145931Z",
          "iopub.status.idle": "2024-06-14T11:40:00.158022Z",
          "shell.execute_reply.started": "2024-06-14T11:40:00.145867Z",
          "shell.execute_reply": "2024-06-14T11:40:00.156842Z"
        },
        "trusted": true,
        "id": "iXaTrHnSI0PK"
      },
      "execution_count": null,
      "outputs": []
    },
    {
      "cell_type": "code",
      "source": [
        "titanic[\"Age\"] = titanic[\"Age\"].fillna(titanic[\"Age\"].mean())"
      ],
      "metadata": {
        "execution": {
          "iopub.status.busy": "2024-06-14T11:40:00.164171Z",
          "iopub.execute_input": "2024-06-14T11:40:00.165004Z",
          "iopub.status.idle": "2024-06-14T11:40:00.171103Z",
          "shell.execute_reply.started": "2024-06-14T11:40:00.164967Z",
          "shell.execute_reply": "2024-06-14T11:40:00.169924Z"
        },
        "trusted": true,
        "id": "kxeQF1y6I0PK"
      },
      "execution_count": null,
      "outputs": []
    },
    {
      "cell_type": "code",
      "source": [
        "titanic['Embarked'] = titanic['Embarked'].fillna(titanic['Embarked'] == 'Q')"
      ],
      "metadata": {
        "execution": {
          "iopub.status.busy": "2024-06-14T11:40:00.172517Z",
          "iopub.execute_input": "2024-06-14T11:40:00.17289Z",
          "iopub.status.idle": "2024-06-14T11:40:00.184595Z",
          "shell.execute_reply.started": "2024-06-14T11:40:00.172861Z",
          "shell.execute_reply": "2024-06-14T11:40:00.183283Z"
        },
        "trusted": true,
        "id": "zd-BK52ZI0PL"
      },
      "execution_count": null,
      "outputs": []
    },
    {
      "cell_type": "code",
      "source": [
        "titanic['Embarked'].fillna(\"C\", inplace=True)"
      ],
      "metadata": {
        "execution": {
          "iopub.status.busy": "2024-06-14T11:40:00.18821Z",
          "iopub.execute_input": "2024-06-14T11:40:00.188628Z",
          "iopub.status.idle": "2024-06-14T11:40:00.196669Z",
          "shell.execute_reply.started": "2024-06-14T11:40:00.188596Z",
          "shell.execute_reply": "2024-06-14T11:40:00.195588Z"
        },
        "trusted": true,
        "id": "SkJzsU1fI0PM"
      },
      "execution_count": null,
      "outputs": []
    },
    {
      "cell_type": "code",
      "source": [
        "titanic.fillna({'Embarked' : 'Z'},inplace=True)"
      ],
      "metadata": {
        "execution": {
          "iopub.status.busy": "2024-06-14T11:40:00.198121Z",
          "iopub.execute_input": "2024-06-14T11:40:00.198683Z",
          "iopub.status.idle": "2024-06-14T11:40:00.210825Z",
          "shell.execute_reply.started": "2024-06-14T11:40:00.198651Z",
          "shell.execute_reply": "2024-06-14T11:40:00.209383Z"
        },
        "trusted": true,
        "id": "8_SinbNzI0PM"
      },
      "execution_count": null,
      "outputs": []
    },
    {
      "cell_type": "code",
      "source": [
        "titanic['Embarked'] = titanic['Embarked'].fillna('S')"
      ],
      "metadata": {
        "execution": {
          "iopub.status.busy": "2024-06-14T11:40:00.212561Z",
          "iopub.execute_input": "2024-06-14T11:40:00.212946Z",
          "iopub.status.idle": "2024-06-14T11:40:00.22485Z",
          "shell.execute_reply.started": "2024-06-14T11:40:00.212906Z",
          "shell.execute_reply": "2024-06-14T11:40:00.222849Z"
        },
        "trusted": true,
        "id": "Fp9EzGvjI0PM"
      },
      "execution_count": null,
      "outputs": []
    },
    {
      "cell_type": "code",
      "source": [
        "titanic = titanic['Embarked'].fillna(value='No Passenger')"
      ],
      "metadata": {
        "execution": {
          "iopub.status.busy": "2024-06-14T11:40:00.227087Z",
          "iopub.execute_input": "2024-06-14T11:40:00.22759Z",
          "iopub.status.idle": "2024-06-14T11:40:00.236691Z",
          "shell.execute_reply.started": "2024-06-14T11:40:00.227539Z",
          "shell.execute_reply": "2024-06-14T11:40:00.235553Z"
        },
        "trusted": true,
        "id": "CaKLZiRyI0PN"
      },
      "execution_count": null,
      "outputs": []
    },
    {
      "cell_type": "code",
      "source": [
        "titanic = df.copy('deep')\n",
        "titanic.head()"
      ],
      "metadata": {
        "execution": {
          "iopub.status.busy": "2024-06-14T11:40:00.238137Z",
          "iopub.execute_input": "2024-06-14T11:40:00.238648Z",
          "iopub.status.idle": "2024-06-14T11:40:00.261364Z",
          "shell.execute_reply.started": "2024-06-14T11:40:00.238616Z",
          "shell.execute_reply": "2024-06-14T11:40:00.259696Z"
        },
        "trusted": true,
        "id": "ui8nZAoKI0PN"
      },
      "execution_count": null,
      "outputs": []
    },
    {
      "cell_type": "markdown",
      "source": [
        "# Follow for content related to Machine Learning Link:   https://www.linkedin.com/groups/7436898/"
      ],
      "metadata": {
        "id": "zsFdRi_7I0PO"
      }
    }
  ]
}